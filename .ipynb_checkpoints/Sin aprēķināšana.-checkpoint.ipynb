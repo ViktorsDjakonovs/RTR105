{
 "cells": [
  {
   "cell_type": "markdown",
   "metadata": {},
   "source": [
    "Mana pirmā atskaite.Sin aprēķināšana."
   ]
  },
  {
   "cell_type": "code",
   "execution_count": 1,
   "metadata": {},
   "outputs": [
    {
     "name": "stdout",
     "output_type": "stream",
     "text": [
      "Sin aprekinasana:\n",
      "\n",
      "Ievadi argumentu (x): 5\n",
      "PC sin: -0.13235175009777303\n",
      "\n",
      "a0 =  25.00 S0 =  25.00\n",
      "a499 =   0.00 S499 =   7.15\n",
      "a500 =  -0.00 S500 =   7.15\n",
      "My  sin: 7.150709129595764\n",
      "Formula: y = sin(x*x)\n",
      "             500\n",
      "            ______\n",
      "            \\          k     4*k+2\n",
      "     2       \\     (-1)  *  x \n",
      "sin(x)   =    |     ----------------- = 1\n",
      "             /        (2 * k +1)!\n",
      "            /_____\n",
      "             k=0\n",
      "                                   4 \n",
      "                           (-1) * x  \n",
      "rekurences reizinatajs: ________________  \n",
      "                         k * 2 * (2*k+1)\n"
     ]
    }
   ],
   "source": [
    "# -*- coding: utf-8 -*-\n",
    "from math import sin\n",
    "\n",
    "def mans_sinuss(x):\n",
    "    k = 1\n",
    "    a = (-1)**0*x**2/(1)\n",
    "    S = a\n",
    "    print('a0 = %6.2f S0 = %6.2f'%(a,S))\n",
    "\n",
    "    while k <= 500:\n",
    "        k = k + 1\n",
    "        R = (-1)*x**2/((2*k)*(2*k+1))\n",
    "        a = a * R\n",
    "        S = S + a\n",
    "        if k == 499:\n",
    "            print(\"a%d = %6.2f S%d = %6.2f\"%(k,a,k,S))\n",
    "        if k == 500:\n",
    "            print('a%d = %6.2f S%d = %6.2f'%(k,a,k,S))\n",
    "\n",
    "    return S\n",
    "\n",
    "\n",
    "print(\"Sin aprekinasana:\")\n",
    "print(\"\")\n",
    "\n",
    "x= float(input(\"Ievadi argumentu (x): \"))\n",
    "y = sin(x * x)\n",
    "print(\"PC sin:\", y)\n",
    "print(\"\")\n",
    "\n",
    "yy = mans_sinuss(x)\n",
    "print(\"My  sin:\", yy)\n",
    "\n",
    "print('Formula: y = sin(x*x)')\n",
    "print('             500')\n",
    "print('            ______')\n",
    "print('            \\\\          k     4*k+2')\n",
    "print('     2       \\\\     (-1)  *  x ')\n",
    "print('sin(x)   =    |     ----------------- = 1')    \n",
    "print('             /        (2 * k +1)!')\n",
    "print('            /_____')\n",
    "print('             k=0')\n",
    "\n",
    "print('                                   4 ')\n",
    "print('                           (-1) * x  ')\n",
    "print('rekurences reizinatajs: ________________  ')\n",
    "print('                         k * 2 * (2*k+1)')\n"
   ]
  },
  {
   "cell_type": "code",
   "execution_count": null,
   "metadata": {},
   "outputs": [],
   "source": []
  }
 ],
 "metadata": {
  "kernelspec": {
   "display_name": "Python 3",
   "language": "python",
   "name": "python3"
  },
  "language_info": {
   "codemirror_mode": {
    "name": "ipython",
    "version": 3
   },
   "file_extension": ".py",
   "mimetype": "text/x-python",
   "name": "python",
   "nbconvert_exporter": "python",
   "pygments_lexer": "ipython3",
   "version": "3.6.4"
  }
 },
 "nbformat": 4,
 "nbformat_minor": 2
}
