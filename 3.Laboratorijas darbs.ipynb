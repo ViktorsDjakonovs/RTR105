{
 "cells": [
  {
   "cell_type": "markdown",
   "metadata": {},
   "source": [
    "Saknes meklesana(class - 16)"
   ]
  },
  {
   "cell_type": "code",
   "execution_count": 1,
   "metadata": {
    "scrolled": true
   },
   "outputs": [
    {
     "name": "stdout",
     "output_type": "stream",
     "text": [
      "Dotajaa intervaalaa sakne (s) ir!\n",
      "Sakne ir:  3.1425781250000004\n"
     ]
    }
   ],
   "source": [
    "#<<170.py>>\n",
    "# Autors: Viktors Djakonovs\n",
    "# Apliecibas numurs: 181REB305\n",
    "# Datums: 13.11.2018.\n",
    "# Sagatave funkcijas saknes mekleeshanai ar dihatomijas metodi\n",
    "\n",
    "# -*- coding: utf -8 -*-\n",
    "from math import sin, fabs\n",
    "from time import sleep\n",
    "\n",
    "def f(x):\n",
    "    return sin(x)\n",
    "\n",
    "#Definejam argumenta x robezhas:\n",
    "a = 1.1\n",
    "b = 3.2\n",
    "\n",
    "# Aprekjinam funkcijas vertibas dotajos punktos:\n",
    "funa = f(a)\n",
    "funb = f(b)\n",
    "\n",
    "# Paarbaudam, vai dotajaa intervaalaa ir saknes:\n",
    "if (funa * funb > 0.0):\n",
    "    print(\"Dotajaa intervala [%s, %s] saknju nav\"% (a,b))\n",
    "    sleep(1); exit() # Zinjo uz ekraana, gaida 1 sec. un darbu pabeidz\n",
    "else:\n",
    "    print(\"Dotajaa intervaalaa sakne (s) ir!\")\n",
    "\n",
    "#Defineejam precizitaati , ar kaadu mekleesim sakni:\n",
    "deltax = 0.01\n",
    "\n",
    "# Sashaurinam saknes mekleeshanas robezhas:\n",
    "while(fabs(b-a) > deltax):\n",
    "    x = (a+b)/2; funx = f(x)\n",
    "    if (funa*funx < 0.):\n",
    "        b = x\n",
    "    else:\n",
    "        a = x\n",
    "\n",
    "print(\"Sakne ir: \", x)"
   ]
  },
  {
   "cell_type": "markdown",
   "metadata": {},
   "source": [
    "Mana programma."
   ]
  },
  {
   "cell_type": "code",
   "execution_count": 2,
   "metadata": {},
   "outputs": [
    {
     "data": {
      "image/png": "[encoded data removed]",
      "text/plain": [
       "<matplotlib.figure.Figure at 0x7fb2677faf60>"
      ]
     },
     "metadata": {},
     "output_type": "display_data"
    },
    {
     "name": "stdout",
     "output_type": "stream",
     "text": [
      "Dotajā intervālā sakne(s) ir!\n",
      "1 5 3.0\n",
      "1 3.0 2.0\n",
      "1 2.0 1.5\n",
      "1 1.5 1.25\n",
      "1 1.25 1.125\n",
      "1 1.125 1.0625\n",
      "1 1.0625 1.03125\n",
      "1 1.03125 1.015625\n",
      "1 1.015625 1.0078125\n",
      "1 1.0078125 1.00390625\n",
      "1 1.00390625 1.001953125\n",
      "1 1.001953125 1.0009765625\n",
      "1 1.0009765625 1.00048828125\n",
      "1 1.00048828125 1.000244140625\n",
      "1 1.000244140625 1.0001220703125\n",
      "1 1.0001220703125 1.00006103515625\n",
      "Sakne ir:  1.00006103515625\n",
      "Sakne ir:  0.8415369354220074\n",
      "Interāciju skaits k =  16\n"
     ]
    }
   ],
   "source": [
    "from math import sin,fabs\n",
    "\n",
    "from time import sleep\n",
    "#sys importē iebūvēto moduli (bibliotēku), kas nosaukts sys.\n",
    "\n",
    "\n",
    "def f(x):\n",
    "    return sin(x*x)\n",
    "\n",
    "k = 0\n",
    "a = 1\n",
    "b = 5\n",
    "\n",
    "#Ierakstām dotos un to vērtības\n",
    "\n",
    "from numpy import *\n",
    "from matplotlib import pyplot as plt\n",
    "x = linspace(0 , 4 , 70)\n",
    "y = sin(x*x)\n",
    "\n",
    "#Ierādām kādās robežas ir noteiktais grafiks ka arī pierakstām grafiku kurš tiks attēlots\n",
    "\n",
    "plt.grid()\n",
    "plt.xlabel('x')\n",
    "plt.ylabel('f(x)')\n",
    "plt.title('Funkcija $sin(x*x)$')\n",
    "plt.plot(x, y, color = '#FF0000',linewidth = 1.0)\n",
    "plt.show()\n",
    "\n",
    "#ar plt. ieviešam funkcijas attelošanos ar plt.plot ierakstām pieškirto grafika krāsu un pieprasām visu attēlot\n",
    "funa = f(a)\n",
    "fnub = f(b)\n",
    "\n",
    "\n",
    "if (funa*fnub >0.0):\n",
    "    print('Dotajā intervālā [%s,%s] sakņu nav'%(a,b))\n",
    "    sleep(1);exit()\n",
    "else:\n",
    "    print('Dotajā intervālā sakne(s) ir!')\n",
    "deltax = 0.0001\n",
    "\n",
    "#Pieškiram salidzinājumu a un b ka ja sareizinot a un b tiem ir jābut lielākiem par 0 vertību un tad norādām kurā intervalā skanes ir bet kura nav \n",
    "while(fabs(b-a) > deltax):\n",
    "    k = k+1\n",
    "    x=(a+b)/2.;funx=f(x)\n",
    "    print(a,b,x)\n",
    "    if(funa*fnub < 0.):\n",
    "        b = x\n",
    "    else:\n",
    "        a = x\n",
    "\n",
    "print('Sakne ir: ',x)\n",
    "print('Sakne ir: ',f(x))\n",
    "print('Interāciju skaits k = ',k)\n",
    "\n",
    "#Pieprasām izvadīt skaitļus kuri norāda saknes un interāciju skaitu"
   ]
  }
 ],
 "metadata": {
  "kernelspec": {
   "display_name": "Python 3",
   "language": "python",
   "name": "python3"
  },
  "language_info": {
   "codemirror_mode": {
    "name": "ipython",
    "version": 3
   },
   "file_extension": ".py",
   "mimetype": "text/x-python",
   "name": "python",
   "nbconvert_exporter": "python",
   "pygments_lexer": "ipython3",
   "version": "3.6.7"
  }
 },
 "nbformat": 4,
 "nbformat_minor": 2
}
